{
 "cells": [
  {
   "cell_type": "markdown",
   "metadata": {},
   "source": [
    "# LAB 4: Clustering (Unsupervised learning)"
   ]
  },
  {
   "cell_type": "markdown",
   "metadata": {},
   "source": [
    "## Part I : Exercises"
   ]
  },
  {
   "cell_type": "markdown",
   "metadata": {},
   "source": [
    "### Exercise 1"
   ]
  },
  {
   "cell_type": "code",
   "execution_count": 1,
   "metadata": {},
   "outputs": [],
   "source": [
    "import pandas\n",
    "from scipy.cluster.hierarchy import linkage\n",
    "from scipy.cluster.hierarchy import dendrogram\n",
    "d = [0.3, 0.4, 0.7,0.5, 0.8,0.45] # d should be a condensed distance matrix, like an object returned by pdist() function"
   ]
  },
  {
   "cell_type": "code",
   "execution_count": 2,
   "metadata": {},
   "outputs": [
    {
     "data": {
      "text/plain": [
       "{'icoord': [[5.0, 5.0, 15.0, 15.0],\n",
       "  [25.0, 25.0, 35.0, 35.0],\n",
       "  [10.0, 10.0, 30.0, 30.0]],\n",
       " 'dcoord': [[0.0, 0.3, 0.3, 0.0],\n",
       "  [0.0, 0.45, 0.45, 0.0],\n",
       "  [0.3, 0.8, 0.8, 0.45]],\n",
       " 'ivl': [1, 2, 3, 4],\n",
       " 'leaves': [0, 1, 2, 3],\n",
       " 'color_list': ['C1', 'C2', 'C0'],\n",
       " 'leaves_color_list': ['C1', 'C1', 'C2', 'C2']}"
      ]
     },
     "execution_count": 2,
     "metadata": {},
     "output_type": "execute_result"
    },
    {
     "data": {
      "image/png": "[encoded data removed]",
      "text/plain": [
       "<Figure size 432x288 with 1 Axes>"
      ]
     },
     "metadata": {
      "needs_background": "light"
     },
     "output_type": "display_data"
    }
   ],
   "source": [
    "# a) complete linkage\n",
    "exo1_hc_complete = linkage(d, \"complete\")\n",
    "dendrogram(exo1_hc_complete,labels=[1,2,3,4])"
   ]
  },
  {
   "cell_type": "code",
   "execution_count": 3,
   "metadata": {},
   "outputs": [
    {
     "data": {
      "text/plain": [
       "{'icoord': [[25.0, 25.0, 35.0, 35.0],\n",
       "  [15.0, 15.0, 30.0, 30.0],\n",
       "  [5.0, 5.0, 22.5, 22.5]],\n",
       " 'dcoord': [[0.0, 0.3, 0.3, 0.0],\n",
       "  [0.0, 0.4, 0.4, 0.3],\n",
       "  [0.0, 0.45, 0.45, 0.4]],\n",
       " 'ivl': [4, 3, 1, 2],\n",
       " 'leaves': [3, 2, 0, 1],\n",
       " 'color_list': ['C1', 'C0', 'C0'],\n",
       " 'leaves_color_list': ['C0', 'C0', 'C1', 'C1']}"
      ]
     },
     "execution_count": 3,
     "metadata": {},
     "output_type": "execute_result"
    },
    {
     "data": {
      "image/png": "[encoded data removed]",
      "text/plain": [
       "<Figure size 432x288 with 1 Axes>"
      ]
     },
     "metadata": {
      "needs_background": "light"
     },
     "output_type": "display_data"
    }
   ],
   "source": [
    "# b) complete single\n",
    "exo1_hc_single = linkage(d, \"single\")\n",
    "dendrogram(exo1_hc_single,labels=[1,2,3,4])"
   ]
  },
  {
   "cell_type": "code",
   "execution_count": 4,
   "metadata": {},
   "outputs": [
    {
     "name": "stdout",
     "output_type": "stream",
     "text": [
      "[[0]\n",
      " [0]\n",
      " [1]\n",
      " [1]]\n",
      "[[0]\n",
      " [0]\n",
      " [0]\n",
      " [1]]\n"
     ]
    }
   ],
   "source": [
    "from scipy.cluster.hierarchy import cut_tree\n",
    "print(cut_tree(exo1_hc_complete, n_clusters = 2)) \n",
    "#c) (1,2), (3,4)\n",
    "print(cut_tree(exo1_hc_single, n_clusters = 2)) \n",
    "#d) (1, 2, 3), (4)"
   ]
  },
  {
   "cell_type": "code",
   "execution_count": 5,
   "metadata": {},
   "outputs": [
    {
     "name": "stdout",
     "output_type": "stream",
     "text": [
      "   sub-cluster  sub-cluster  distance  cluster size\n",
      "0          0.0          1.0      0.30           2.0\n",
      "1          2.0          3.0      0.45           2.0\n",
      "2          4.0          5.0      0.80           4.0\n"
     ]
    }
   ],
   "source": [
    "column_labels = [\"sub-cluster\",\"sub-cluster\",\"distance\",\"cluster size\"]\n",
    "df = pandas.DataFrame(exo1_hc_complete, columns=column_labels)\n",
    "print(df)"
   ]
  },
  {
   "cell_type": "code",
   "execution_count": 6,
   "metadata": {},
   "outputs": [
    {
     "name": "stdout",
     "output_type": "stream",
     "text": [
      "JOINS\n",
      "   sub-cluster  sub-cluster  distance  cluster size\n",
      "0          0.0          1.0      0.30           2.0\n",
      "1          2.0          4.0      0.40           3.0\n",
      "2          3.0          5.0      0.45           4.0\n"
     ]
    }
   ],
   "source": [
    "print(\"JOINS\")\n",
    "#print(\"sub-clusters\",\"distance\",\"cluster size\")\n",
    "df = pandas.DataFrame(exo1_hc_single, columns=column_labels)\n",
    "print(df)"
   ]
  },
  {
   "cell_type": "code",
   "execution_count": 7,
   "metadata": {},
   "outputs": [
    {
     "data": {
      "text/plain": [
       "array([0.3 , 0.45, 0.8 ])"
      ]
     },
     "execution_count": 7,
     "metadata": {},
     "output_type": "execute_result"
    }
   ],
   "source": [
    "exo1_hc_complete[:,2] # to get the distances in the order the joins took place"
   ]
  },
  {
   "cell_type": "markdown",
   "metadata": {},
   "source": [
    "### Exercise 2"
   ]
  },
  {
   "cell_type": "code",
   "execution_count": 8,
   "metadata": {},
   "outputs": [
    {
     "data": {
      "text/plain": [
       "[<matplotlib.lines.Line2D at 0x7f747ce6c790>]"
      ]
     },
     "execution_count": 8,
     "metadata": {},
     "output_type": "execute_result"
    },
    {
     "data": {
      "image/png": "[encoded data removed]",
      "text/plain": [
       "<Figure size 432x288 with 1 Axes>"
      ]
     },
     "metadata": {
      "needs_background": "light"
     },
     "output_type": "display_data"
    }
   ],
   "source": [
    "import matplotlib.pyplot as plt\n",
    "X1 = [1, 1, 0, 5, 6, 4]\n",
    "X2 = [4, 3, 4, 2, 2, 0]\n",
    "#a)\n",
    "plt.plot(X1,X2,\"o\")"
   ]
  },
  {
   "cell_type": "code",
   "execution_count": 9,
   "metadata": {},
   "outputs": [
    {
     "name": "stdout",
     "output_type": "stream",
     "text": [
      "[1, 1, 1, 1, 1, 2]\n"
     ]
    }
   ],
   "source": [
    "#b)\n",
    "from random import choice\n",
    "l = [1, 2]  \n",
    "labels = [choice(l) for x in range(0,len(X1))]\n",
    "print(labels)"
   ]
  },
  {
   "cell_type": "code",
   "execution_count": 10,
   "metadata": {},
   "outputs": [
    {
     "name": "stdout",
     "output_type": "stream",
     "text": [
      "[2.6, 3.0]\n",
      "[4.0, 0.0]\n"
     ]
    },
    {
     "data": {
      "text/plain": [
       "[<matplotlib.lines.Line2D at 0x7f747cdfbca0>]"
      ]
     },
     "execution_count": 10,
     "metadata": {},
     "output_type": "execute_result"
    },
    {
     "data": {
      "image/png": "[encoded data removed]",
      "text/plain": [
       "<Figure size 432x288 with 1 Axes>"
      ]
     },
     "metadata": {
      "needs_background": "light"
     },
     "output_type": "display_data"
    }
   ],
   "source": [
    "#c) centroids\n",
    "def calculate_centroids(X,labels):\n",
    "    centroid1, centroid2,n1,n2=[0,0],[0,0],0,0\n",
    "    for i in range(0,len(X[0])):\n",
    "        if labels[i]==1:\n",
    "            centroid1[0]+=X[0][i]\n",
    "            centroid1[1]+=X[1][i]\n",
    "            n1+=1\n",
    "        else: \n",
    "            centroid2[0]+=X[0][i]\n",
    "            centroid2[1]+=X[1][i]\n",
    "            n2+=1\n",
    "    centroid1[0]=centroid1[0]*1.0/n1\n",
    "    centroid1[1]=centroid1[1]*1.0/n1\n",
    "    centroid2[0]=centroid2[0]*1.0/n2\n",
    "    centroid2[1]=centroid2[1]*1.0/n2\n",
    "    return[centroid1,centroid2]\n",
    "\n",
    "X =[X1,X2]\n",
    "\n",
    "c1,c2 =calculate_centroids(X,labels)[0],calculate_centroids(X,labels)[1]\n",
    "print(c1)\n",
    "print(c2)\n",
    "\n",
    "plt.plot(X1,X2,\"o\")\n",
    "plt.plot(c1[0],c1[1],\"*\",color=\"black\")\n",
    "plt.plot(c2[0],c2[1],\"*\",color=\"black\")"
   ]
  },
  {
   "cell_type": "code",
   "execution_count": 11,
   "metadata": {},
   "outputs": [
    {
     "data": {
      "text/plain": [
       "1.886796226411321"
      ]
     },
     "execution_count": 11,
     "metadata": {},
     "output_type": "execute_result"
    }
   ],
   "source": [
    "# d)\n",
    "import math\n",
    "def dist(x,centroid):\n",
    "    return(math.sqrt((x[0] - centroid[0])**2 + (x[1]-centroid[1])**2))\n",
    "dist([X1[0],X2[0]],c1)"
   ]
  },
  {
   "cell_type": "code",
   "execution_count": 12,
   "metadata": {},
   "outputs": [
    {
     "name": "stdout",
     "output_type": "stream",
     "text": [
      "[1, 1, 1, 2, 2, 2]\n"
     ]
    }
   ],
   "source": [
    "def assign_labels(X, centroid1, centroid2):\n",
    "    labels = []\n",
    "    for i in range(len(X[0])):\n",
    "        if (dist([X[0][i],X[1][i]], centroid1) < dist([X[0][i],X[1][i]], centroid2)):\n",
    "            labels.append(1)\n",
    "        else:\n",
    "            labels.append(2)\n",
    "    return(labels)\n",
    "\n",
    "X =[X1,X2]\n",
    "labels = assign_labels(X, c1, c2)\n",
    "print(labels)"
   ]
  },
  {
   "cell_type": "code",
   "execution_count": 13,
   "metadata": {},
   "outputs": [
    {
     "name": "stdout",
     "output_type": "stream",
     "text": [
      "[0.6666666666666666, 3.6666666666666665]\n",
      "[5.0, 1.3333333333333333]\n"
     ]
    }
   ],
   "source": [
    "#e)\n",
    "last_labels = []\n",
    "while (not(last_labels == labels)): \n",
    "    last_labels = labels\n",
    "    centroid1 = calculate_centroids(X,labels)[0]\n",
    "    centroid2 = calculate_centroids(X,labels)[1]\n",
    "    print(centroid1)\n",
    "    print(centroid2)\n",
    "    labels = assign_labels(X, centroid1, centroid2)\n"
   ]
  },
  {
   "cell_type": "code",
   "execution_count": 14,
   "metadata": {},
   "outputs": [
    {
     "data": {
      "text/plain": [
       "[<matplotlib.lines.Line2D at 0x7f747cd82970>]"
      ]
     },
     "execution_count": 14,
     "metadata": {},
     "output_type": "execute_result"
    },
    {
     "data": {
      "image/png": "[encoded data removed]",
      "text/plain": [
       "<Figure size 432x288 with 1 Axes>"
      ]
     },
     "metadata": {
      "needs_background": "light"
     },
     "output_type": "display_data"
    }
   ],
   "source": [
    "for i in range(len(X[0])):\n",
    "    if labels[i] ==1:\n",
    "        col=\"red\"\n",
    "    else:\n",
    "        col=\"blue\"\n",
    "    plt.plot(X[0][i],X[1][i],\"o\",color=col)\n",
    "        \n",
    "plt.plot(centroid1[0],centroid1[1],\"*\",color=\"black\")\n",
    "plt.plot(centroid2[0],centroid2[1],\"*\",color=\"black\")"
   ]
  },
  {
   "cell_type": "markdown",
   "metadata": {},
   "source": [
    "## Part II : Practical applications"
   ]
  },
  {
   "cell_type": "markdown",
   "metadata": {},
   "source": [
    "### Exercise 1"
   ]
  },
  {
   "cell_type": "code",
   "execution_count": 15,
   "metadata": {},
   "outputs": [
    {
     "data": {
      "text/plain": [
       "Text(0, 0.5, 'X2')"
      ]
     },
     "execution_count": 15,
     "metadata": {},
     "output_type": "execute_result"
    },
    {
     "data": {
      "image/png": "[encoded data removed]",
      "text/plain": [
       "<Figure size 432x288 with 1 Axes>"
      ]
     },
     "metadata": {
      "needs_background": "light"
     },
     "output_type": "display_data"
    }
   ],
   "source": [
    "# a)\n",
    "# The simulated data will consist in 50 observations described by two normal-distributed va-riables. \n",
    "# In order to define classes in the data the first 25 observations have a mean shift relative to the next 25 observations.\n",
    "\n",
    "import numpy as np\n",
    "\n",
    "X = np.random.randn(50,2)\n",
    "X[0:25, 0] = X[0:25, 0] + 3\n",
    "X[0:25, 1] = X[0:25, 1] - 4\n",
    "\n",
    "# You can plot the observations and notice that there are two well separated clusters: \n",
    "\n",
    "import matplotlib.pyplot as plt\n",
    "plt.plot(X[:,0],X[:,1],\"o\")\n",
    "plt.xlabel(\"X1\")\n",
    "plt.ylabel(\"X2\")"
   ]
  },
  {
   "cell_type": "code",
   "execution_count": 16,
   "metadata": {},
   "outputs": [
    {
     "name": "stdout",
     "output_type": "stream",
     "text": [
      "[0 0 0 0 0 0 0 0 0 0 0 0 0 0 0 0 0 0 0 0 0 0 0 0 0 1 1 1 1 1 1 1 1 1 1 1 1\n",
      " 1 1 1 1 1 1 1 1 1 1 1 1 1]\n",
      "[[ 3.09619678 -3.67694588]\n",
      " [ 0.05298726 -0.23920398]]\n"
     ]
    }
   ],
   "source": [
    "# b) \n",
    "# Perform K-means clustering with K = 2 \n",
    "\n",
    "from sklearn.cluster import KMeans\n",
    "kmeans = KMeans(n_clusters=2, random_state=100).fit(X)\n",
    "labels = kmeans.labels_\n",
    "centroids = kmeans.cluster_centers_\n",
    "\n",
    "print(labels)\n",
    "print(centroids)"
   ]
  },
  {
   "cell_type": "code",
   "execution_count": 17,
   "metadata": {},
   "outputs": [
    {
     "data": {
      "text/plain": [
       "Text(0, 0.5, 'X2')"
      ]
     },
     "execution_count": 17,
     "metadata": {},
     "output_type": "execute_result"
    },
    {
     "data": {
      "image/png": "[encoded data removed]",
      "text/plain": [
       "<Figure size 432x288 with 1 Axes>"
      ]
     },
     "metadata": {
      "needs_background": "light"
     },
     "output_type": "display_data"
    }
   ],
   "source": [
    "# plot the observations using different color per cluster\n",
    "for i in range(len(X)):\n",
    "    if labels[i] == 0:\n",
    "        plt.plot(X[i,0],X[i,1],\"o\",color=\"red\")\n",
    "    else:\n",
    "        plt.plot(X[i,0],X[i,1],\"o\",color=\"blue\")\n",
    "\n",
    "centroid1 = centroids[0]\n",
    "centroid2 = centroids[1]\n",
    "plt.plot(centroid1[0], centroid1[1], \"*\", color=\"black\", markersize=15)\n",
    "plt.plot(centroid2[0], centroid2[1], \"*\", color=\"black\", markersize=15)    \n",
    "\n",
    "plt.xlabel(\"X1\")\n",
    "plt.ylabel(\"X2\")\n"
   ]
  },
  {
   "cell_type": "code",
   "execution_count": 18,
   "metadata": {},
   "outputs": [
    {
     "name": "stdout",
     "output_type": "stream",
     "text": [
      "(567, 13)\n"
     ]
    }
   ],
   "source": [
    "# c)\n",
    "dfHVC = pandas.read_csv(\"HCVdata.csv\", sep=\";\")\n",
    "\n",
    "# How many observations are there?\n",
    "print(dfHVC.shape)\n"
   ]
  },
  {
   "cell_type": "code",
   "execution_count": 19,
   "metadata": {},
   "outputs": [
    {
     "name": "stdout",
     "output_type": "stream",
     "text": [
      "<class 'pandas.core.frame.DataFrame'>\n",
      "RangeIndex: 567 entries, 0 to 566\n",
      "Data columns (total 13 columns):\n",
      " #   Column      Non-Null Count  Dtype  \n",
      "---  ------      --------------  -----  \n",
      " 0   Unnamed: 0  567 non-null    int64  \n",
      " 1   Category    567 non-null    object \n",
      " 2   Sex         567 non-null    object \n",
      " 3   Age         567 non-null    int64  \n",
      " 4   ALB         567 non-null    float64\n",
      " 5   ALT         567 non-null    float64\n",
      " 6   AST         567 non-null    float64\n",
      " 7   BIL         567 non-null    float64\n",
      " 8   CHE         567 non-null    float64\n",
      " 9   CHOL        567 non-null    float64\n",
      " 10  CREA        567 non-null    float64\n",
      " 11  GGT         567 non-null    float64\n",
      " 12  PROT        567 non-null    float64\n",
      "dtypes: float64(9), int64(2), object(2)\n",
      "memory usage: 57.7+ KB\n",
      "None\n"
     ]
    }
   ],
   "source": [
    "# How many variables are there (numberic, categorical, etc.)? What type of variables (numeric, categorical) ?\n",
    "print(dfHVC.info())\n",
    "\n",
    "# 'Unnamed 0' can be ignored because it does not contain any relevant information by looking into the dataset."
   ]
  },
  {
   "cell_type": "code",
   "execution_count": 20,
   "metadata": {},
   "outputs": [
    {
     "name": "stdout",
     "output_type": "stream",
     "text": [
      "0=Blood Donor    496\n",
      "3=Cirrhosis       28\n",
      "1=Hepatitis       23\n",
      "2=Fibrosis        20\n",
      "Name: Category, dtype: int64\n",
      "m    342\n",
      "f    225\n",
      "Name: Sex, dtype: int64\n"
     ]
    }
   ],
   "source": [
    "# Numner of levels for Category variable and Sex variable\n",
    "print(dfHVC[\"Category\"].value_counts())\n",
    "print(dfHVC[\"Sex\"].value_counts())\n"
   ]
  },
  {
   "cell_type": "code",
   "execution_count": 21,
   "metadata": {},
   "outputs": [
    {
     "name": "stdout",
     "output_type": "stream",
     "text": [
      "     Unnamed: 0  Category  Sex  Age   ALB    ALT    AST   BIL    CHE  CHOL  \\\n",
      "0             1         0    0   32  38.5    7.7   22.1   7.5   6.93  3.23   \n",
      "1             2         0    0   32  38.5   18.0   24.7   3.9  11.17  4.80   \n",
      "2             3         0    0   32  46.9   36.2   52.6   6.1   8.84  5.20   \n",
      "3             4         0    0   32  43.2   30.6   22.6  18.9   7.33  4.74   \n",
      "4             5         0    0   32  39.2   32.6   24.8   9.6   9.15  4.32   \n",
      "..          ...       ...  ...  ...   ...    ...    ...   ...    ...   ...   \n",
      "562         611         3    1   62  32.0    5.9  110.3  50.0   5.57  6.30   \n",
      "563         612         3    1   64  24.0    2.9   44.4  20.0   1.54  3.02   \n",
      "564         613         3    1   64  29.0    3.5   99.0  48.0   1.66  3.63   \n",
      "565         614         3    1   46  33.0   39.0   62.0  20.0   3.56  4.20   \n",
      "566         615         3    1   59  36.0  100.0   80.0  12.0   9.07  5.30   \n",
      "\n",
      "      CREA    GGT  PROT  \n",
      "0    106.0   12.1  69.0  \n",
      "1     74.0   15.6  76.5  \n",
      "2     86.0   33.2  79.3  \n",
      "3     80.0   33.8  75.7  \n",
      "4     76.0   29.9  68.7  \n",
      "..     ...    ...   ...  \n",
      "562   55.7  650.9  68.5  \n",
      "563   63.0   35.9  71.3  \n",
      "564   66.7   64.2  82.0  \n",
      "565   52.0   50.0  71.0  \n",
      "566   67.0   34.0  68.0  \n",
      "\n",
      "[567 rows x 13 columns]\n",
      "<class 'pandas.core.frame.DataFrame'>\n",
      "RangeIndex: 567 entries, 0 to 566\n",
      "Data columns (total 13 columns):\n",
      " #   Column      Non-Null Count  Dtype  \n",
      "---  ------      --------------  -----  \n",
      " 0   Unnamed: 0  567 non-null    int64  \n",
      " 1   Category    567 non-null    int64  \n",
      " 2   Sex         567 non-null    int64  \n",
      " 3   Age         567 non-null    int64  \n",
      " 4   ALB         567 non-null    float64\n",
      " 5   ALT         567 non-null    float64\n",
      " 6   AST         567 non-null    float64\n",
      " 7   BIL         567 non-null    float64\n",
      " 8   CHE         567 non-null    float64\n",
      " 9   CHOL        567 non-null    float64\n",
      " 10  CREA        567 non-null    float64\n",
      " 11  GGT         567 non-null    float64\n",
      " 12  PROT        567 non-null    float64\n",
      "dtypes: float64(9), int64(4)\n",
      "memory usage: 57.7 KB\n",
      "None\n"
     ]
    }
   ],
   "source": [
    "# d)\n",
    "\n",
    "dfHVC.replace('0=Blood Donor', 0, inplace=True)\n",
    "dfHVC.replace('1=Hepatitis',   1, inplace=True)\n",
    "dfHVC.replace('2=Fibrosis',    2, inplace=True)\n",
    "dfHVC.replace('3=Cirrhosis',   3, inplace=True)\n",
    "\n",
    "dfHVC.replace('m', 0, inplace=True)\n",
    "dfHVC.replace('f', 1, inplace=True)\n",
    "\n",
    "\n",
    "# dfHVC.drop(['Unnamed: 0', 'Category', 'Sex'], axis='columns', inplace=True)\n",
    "\n",
    "from sklearn.preprocessing import StandardScaler\n",
    "scaler = StandardScaler()\n",
    "dfHVC_scaled = scaler.fit_transform(dfHVC)\n",
    "\n",
    "print(dfHVC)\n",
    "\n",
    "print(dfHVC.info())"
   ]
  },
  {
   "cell_type": "code",
   "execution_count": 22,
   "metadata": {},
   "outputs": [
    {
     "data": {
      "text/plain": [
       "pandas.core.frame.DataFrame"
      ]
     },
     "execution_count": 22,
     "metadata": {},
     "output_type": "execute_result"
    }
   ],
   "source": [
    "# convert dfHVC_scaled to a DataFrame\n",
    "dfHVC_scaled = pandas.DataFrame(dfHVC_scaled)\n",
    "type(dfHVC_scaled)"
   ]
  },
  {
   "cell_type": "code",
   "execution_count": 23,
   "metadata": {},
   "outputs": [
    {
     "name": "stdout",
     "output_type": "stream",
     "text": [
      "[[-0.74402359 -0.2849896  -0.81110711 -0.09012226  0.29987275  0.12267474\n",
      "  -0.16654523 -0.07542246  0.32369238  0.09141497  0.0624103  -0.10264459\n",
      "   0.12027752]\n",
      " [ 0.69002503 -0.26591425  1.20436201  0.02870255 -0.2228259  -0.28812162\n",
      "  -0.29926148 -0.23667041 -0.18648907  0.09826732 -0.23351798 -0.26432636\n",
      "  -0.16397195]\n",
      " [ 1.5698393   2.88097981 -0.27789235  0.47617588 -0.83639568  0.61427835\n",
      "   2.50262982  1.61116877 -1.19122754 -0.99748044 -0.0999219   1.80610588\n",
      "   0.11130279]\n",
      " [ 1.62371945  3.66611412 -0.12977714 -0.2560313  -1.49322452 -1.16036722\n",
      "  -0.10551584 -0.12554003 -1.06239165 -0.98070346 11.96415034  1.61686925\n",
      "  -2.10334925]]\n"
     ]
    },
    {
     "data": {
      "text/html": [
       "<div>\n",
       "<style scoped>\n",
       "    .dataframe tbody tr th:only-of-type {\n",
       "        vertical-align: middle;\n",
       "    }\n",
       "\n",
       "    .dataframe tbody tr th {\n",
       "        vertical-align: top;\n",
       "    }\n",
       "\n",
       "    .dataframe thead th {\n",
       "        text-align: right;\n",
       "    }\n",
       "</style>\n",
       "<table border=\"1\" class=\"dataframe\">\n",
       "  <thead>\n",
       "    <tr style=\"text-align: right;\">\n",
       "      <th>K-means clusters</th>\n",
       "      <th>0</th>\n",
       "      <th>1</th>\n",
       "      <th>2</th>\n",
       "      <th>3</th>\n",
       "    </tr>\n",
       "    <tr>\n",
       "      <th>Real gropus</th>\n",
       "      <th></th>\n",
       "      <th></th>\n",
       "      <th></th>\n",
       "      <th></th>\n",
       "    </tr>\n",
       "  </thead>\n",
       "  <tbody>\n",
       "    <tr>\n",
       "      <th>0</th>\n",
       "      <td>289</td>\n",
       "      <td>207</td>\n",
       "      <td>0</td>\n",
       "      <td>0</td>\n",
       "    </tr>\n",
       "    <tr>\n",
       "      <th>1</th>\n",
       "      <td>14</td>\n",
       "      <td>3</td>\n",
       "      <td>6</td>\n",
       "      <td>0</td>\n",
       "    </tr>\n",
       "    <tr>\n",
       "      <th>2</th>\n",
       "      <td>0</td>\n",
       "      <td>5</td>\n",
       "      <td>15</td>\n",
       "      <td>0</td>\n",
       "    </tr>\n",
       "    <tr>\n",
       "      <th>3</th>\n",
       "      <td>0</td>\n",
       "      <td>0</td>\n",
       "      <td>25</td>\n",
       "      <td>3</td>\n",
       "    </tr>\n",
       "  </tbody>\n",
       "</table>\n",
       "</div>"
      ],
      "text/plain": [
       "K-means clusters    0    1   2  3\n",
       "Real gropus                      \n",
       "0                 289  207   0  0\n",
       "1                  14    3   6  0\n",
       "2                   0    5  15  0\n",
       "3                   0    0  25  3"
      ]
     },
     "execution_count": 23,
     "metadata": {},
     "output_type": "execute_result"
    }
   ],
   "source": [
    "dfHVC_Kmeans4 = KMeans(n_clusters=4, n_init=50, random_state=1000).fit(dfHVC_scaled)\n",
    "print(dfHVC_Kmeans4.cluster_centers_)\n",
    "\n",
    "pandas.crosstab(\n",
    "    index = dfHVC.Category,\n",
    "    columns = dfHVC_Kmeans4.labels_, \n",
    "    rownames = ['Real gropus'], \n",
    "    colnames = ['K-means clusters']\n",
    ")\n"
   ]
  },
  {
   "cell_type": "markdown",
   "metadata": {},
   "source": [
    "As we can see there are no values only on the main diagonal, meaning that the clusters are not perfect. For example, 14 objects that should be part of group 0 were included in group 0. We have a perfect grouping only when there are values different than 0 only on the main diagonal."
   ]
  },
  {
   "cell_type": "markdown",
   "metadata": {},
   "source": [
    "We can only use 4 cluster because there are only 4 categories. The numbner of clusters should be equal to the number of categories. "
   ]
  },
  {
   "cell_type": "code",
   "execution_count": 24,
   "metadata": {},
   "outputs": [
    {
     "name": "stdout",
     "output_type": "stream",
     "text": [
      "[[ 1.47516066e+00  2.12580573e+00 -1.29777137e-01 -1.85816922e-01\n",
      "   1.21149041e-01  1.71964321e+00  1.69220786e+00  1.74668025e-01\n",
      "   7.49675604e-03 -6.05616075e-01 -1.49845712e-01  9.49200428e-01\n",
      "   9.53469937e-01]\n",
      " [-7.79213664e-01 -3.06396169e-01 -8.11107106e-01 -6.28854238e-02\n",
      "   2.95943671e-01  1.00909259e-01 -1.85357029e-01 -8.48340133e-02\n",
      "   3.17415693e-01  8.42619468e-02  6.61746188e-02 -1.15068834e-01\n",
      "   9.63081753e-02]\n",
      " [ 6.81176533e-01 -2.90008135e-01  1.19431695e+00  3.46325968e-02\n",
      "  -2.27191935e-01 -3.13430278e-01 -3.13379839e-01 -2.37202177e-01\n",
      "  -1.94862020e-01  1.14045702e-01 -2.35355471e-01 -2.74714158e-01\n",
      "  -1.92978622e-01]\n",
      " [ 1.63091437e+00  3.43348173e+00 -2.77892348e-01  7.67452710e-01\n",
      "  -1.85765858e+00 -8.34291471e-01  2.88164316e+00  3.03546679e+00\n",
      "  -2.30563766e+00 -1.22563427e+00  6.80662516e-01  2.60060855e+00\n",
      "  -8.09912546e-01]\n",
      " [ 1.60491454e+00  3.66611412e+00 -8.11107106e-01 -1.21708146e-01\n",
      "  -1.29829467e+00 -1.18326220e+00 -4.47731551e-01 -1.23833704e-02\n",
      "  -4.96854925e-01 -1.11283032e+00  1.94649941e+01  1.39230330e+00\n",
      "  -6.24887685e-01]]\n"
     ]
    },
    {
     "data": {
      "text/html": [
       "<div>\n",
       "<style scoped>\n",
       "    .dataframe tbody tr th:only-of-type {\n",
       "        vertical-align: middle;\n",
       "    }\n",
       "\n",
       "    .dataframe tbody tr th {\n",
       "        vertical-align: top;\n",
       "    }\n",
       "\n",
       "    .dataframe thead th {\n",
       "        text-align: right;\n",
       "    }\n",
       "</style>\n",
       "<table border=\"1\" class=\"dataframe\">\n",
       "  <thead>\n",
       "    <tr style=\"text-align: right;\">\n",
       "      <th>K-means clusters</th>\n",
       "      <th>0</th>\n",
       "      <th>1</th>\n",
       "      <th>2</th>\n",
       "      <th>3</th>\n",
       "      <th>4</th>\n",
       "    </tr>\n",
       "    <tr>\n",
       "      <th>Real gropus</th>\n",
       "      <th></th>\n",
       "      <th></th>\n",
       "      <th></th>\n",
       "      <th></th>\n",
       "      <th></th>\n",
       "    </tr>\n",
       "  </thead>\n",
       "  <tbody>\n",
       "    <tr>\n",
       "      <th>0</th>\n",
       "      <td>1</td>\n",
       "      <td>289</td>\n",
       "      <td>206</td>\n",
       "      <td>0</td>\n",
       "      <td>0</td>\n",
       "    </tr>\n",
       "    <tr>\n",
       "      <th>1</th>\n",
       "      <td>9</td>\n",
       "      <td>9</td>\n",
       "      <td>3</td>\n",
       "      <td>2</td>\n",
       "      <td>0</td>\n",
       "    </tr>\n",
       "    <tr>\n",
       "      <th>2</th>\n",
       "      <td>17</td>\n",
       "      <td>0</td>\n",
       "      <td>3</td>\n",
       "      <td>0</td>\n",
       "      <td>0</td>\n",
       "    </tr>\n",
       "    <tr>\n",
       "      <th>3</th>\n",
       "      <td>6</td>\n",
       "      <td>0</td>\n",
       "      <td>0</td>\n",
       "      <td>21</td>\n",
       "      <td>1</td>\n",
       "    </tr>\n",
       "  </tbody>\n",
       "</table>\n",
       "</div>"
      ],
      "text/plain": [
       "K-means clusters   0    1    2   3  4\n",
       "Real gropus                          \n",
       "0                  1  289  206   0  0\n",
       "1                  9    9    3   2  0\n",
       "2                 17    0    3   0  0\n",
       "3                  6    0    0  21  1"
      ]
     },
     "execution_count": 24,
     "metadata": {},
     "output_type": "execute_result"
    }
   ],
   "source": [
    "# f) According to the results obtained in the previous question, do you think it is suitable to run K−means with another value of K ? If so, perform once more K-means with this value and interpret the results.\n",
    "dfHVC_Kmeans5 = KMeans(n_clusters=5, n_init=50, random_state=1000).fit(dfHVC_scaled)\n",
    "print(dfHVC_Kmeans5.cluster_centers_)\n",
    "\n",
    "pandas.crosstab(\n",
    "    index = dfHVC.Category, \n",
    "    columns = dfHVC_Kmeans5.labels_, \n",
    "    rownames = ['Real gropus'], \n",
    "    colnames = ['K-means clusters']\n",
    ")\n",
    "\n"
   ]
  },
  {
   "cell_type": "markdown",
   "metadata": {},
   "source": [
    "Clusterization can not be done correctly because the number of cluster is different than the number of categories. IF number of clusters <> nonumber of groups then we can't obtain a sqare matching matrix therefore the diagonal will not be perfect. In other worjds - when the number of categories ig greather than the number of clusters, the inevitable there will be at leat a cluster that included more than one category.  "
   ]
  },
  {
   "cell_type": "markdown",
   "metadata": {},
   "source": [
    "### Exercise 2"
   ]
  },
  {
   "cell_type": "code",
   "execution_count": 25,
   "metadata": {},
   "outputs": [
    {
     "data": {
      "image/png": "[encoded data removed]",
      "text/plain": [
       "<Figure size 1800x720 with 1 Axes>"
      ]
     },
     "metadata": {
      "needs_background": "light"
     },
     "output_type": "display_data"
    }
   ],
   "source": [
    "from scipy.cluster.hierarchy import linkage, dendrogram\n",
    "import matplotlib.pyplot as plt\n",
    "\n",
    "hc_complete = linkage(dfHVC_scaled, method='complete')\n",
    "plt.figure(figsize=(25, 10))\n",
    "dendrogram(hc_complete)\n",
    "plt.show()\n"
   ]
  },
  {
   "cell_type": "code",
   "execution_count": 26,
   "metadata": {},
   "outputs": [
    {
     "name": "stdout",
     "output_type": "stream",
     "text": [
      "[[0 0 0 0 0 0 0 0 0 0 0 0 0 0 0 0 0 0 0 0 0 0 0 0 0 0 0 0 0 0 0 0 0 0 0 0\n",
      "  0 0 0 0 0 0 0 0 0 0 0 0 0 0 0 0 0 0 0 0 0 0 0 0 0 0 0 0 0 0 0 0 0 0 0 0\n",
      "  0 0 0 0 0 0 0 0 0 0 0 0 0 0 0 0 0 0 0 0 0 0 0 0 0 0 0 0 0 0 0 0 0 0 0 0\n",
      "  0 0 0 0 0 0 0 0 0 0 0 0 0 0 0 0 0 0 0 0 0 0 0 0 0 0 0 0 0 0 0 0 0 0 0 0\n",
      "  0 0 0 0 0 0 0 0 0 0 0 0 0 0 0 0 0 0 0 0 0 0 0 0 0 0 0 0 0 0 0 0 0 0 0 0\n",
      "  0 0 0 0 0 0 0 0 0 0 0 0 0 0 0 0 0 0 0 0 0 0 0 0 0 0 0 0 0 0 0 0 0 0 0 0\n",
      "  0 0 0 0 0 0 0 0 0 0 0 0 0 0 0 0 0 0 0 0 0 0 0 0 0 0 0 0 0 0 0 0 0 0 0 0\n",
      "  0 0 0 0 0 0 0 0 0 0 0 0 0 0 0 0 0 0 0 0 0 0 0 0 0 0 0 0 0 0 0 0 0 0 0 0\n",
      "  0 0 0 0 0 0 0 0 0 0 0 0 0 0 0 0 0 0 0 0 0 0 0 0 0 0 0 0 0 0 0 0 0 0 0 0\n",
      "  0 0 0 0 0 0 0 0 0 0 0 0 0 0 0 0 0 0 0 0 0 0 0 0 0 0 0 0 0 0 0 0 0 0 0 0\n",
      "  0 0 0 0 0 0 0 0 0 0 0 0 0 0 0 0 0 0 0 0 0 0 0 0 0 0 0 0 0 0 0 0 0 0 0 0\n",
      "  0 0 0 0 0 0 0 0 0 0 0 0 0 0 0 0 0 0 0 0 0 0 0 0 0 0 0 0 0 0 0 0 0 0 0 0\n",
      "  0 0 0 0 0 0 0 0 0 0 0 0 0 0 0 0 0 0 0 0 0 0 0 0 0 0 0 0 0 0 0 0 0 0 0 0\n",
      "  0 0 0 0 0 0 0 0 0 0 0 0 0 0 0 0 0 0 0 0 0 0 0 0 0 0 0 0 0 0 0 0 0 0 0 0\n",
      "  0 0 0 0 0 0 0 0 0 1 1 0 0 0 0 0 0 0 0 0 0 0 0 0 0 0 0 0 0 0 0 0 0 0 0 0\n",
      "  2 3 3 3 2 0 1 3 3 3 3 1 3 3 3 1 3 3 2 0 3 3 1 3 3 3 0]]\n"
     ]
    }
   ],
   "source": [
    "from scipy.cluster.hierarchy import cut_tree\n",
    "print(cut_tree(hc_complete, n_clusters=4).T)"
   ]
  },
  {
   "cell_type": "code",
   "execution_count": 27,
   "metadata": {},
   "outputs": [
    {
     "data": {
      "image/png": "[encoded data removed]",
      "text/plain": [
       "<Figure size 1800x720 with 1 Axes>"
      ]
     },
     "metadata": {
      "needs_background": "light"
     },
     "output_type": "display_data"
    }
   ],
   "source": [
    "# a) \n",
    "# average linkage\n",
    "hc_average = linkage(dfHVC_scaled, method='average')\n",
    "plt.figure(figsize=(25, 10))\n",
    "dendrogram(hc_average)\n",
    "plt.show()\n"
   ]
  },
  {
   "cell_type": "code",
   "execution_count": 28,
   "metadata": {},
   "outputs": [
    {
     "name": "stdout",
     "output_type": "stream",
     "text": [
      "[[0 0 0 0 0 0 0 0 0 0 0 0 0 0 0 0 0 0 0 0 0 0 0 0 0 0 0 0 0 0 0 0 0 0 0 0\n",
      "  0 0 0 0 0 0 0 0 0 0 0 0 0 0 0 0 0 0 0 0 0 0 0 0 0 0 0 0 0 0 0 0 0 0 0 0\n",
      "  0 0 0 0 0 0 0 0 0 0 0 0 0 0 0 0 0 0 0 0 0 0 0 0 0 0 0 0 0 0 0 0 0 0 0 0\n",
      "  0 0 0 0 0 0 0 0 0 0 0 0 0 0 0 0 0 0 0 0 0 0 0 0 0 0 0 0 0 0 0 0 0 0 0 0\n",
      "  0 0 0 0 0 0 0 0 0 0 0 0 0 0 0 0 0 0 0 0 0 0 0 0 0 0 0 0 0 0 0 0 0 0 0 0\n",
      "  0 0 0 0 0 0 0 0 0 0 0 0 0 0 0 0 0 0 0 0 0 0 0 0 0 0 0 0 0 0 0 0 0 0 0 0\n",
      "  0 0 0 0 0 0 0 0 0 0 0 0 0 0 0 0 0 0 0 0 0 0 0 0 0 0 0 0 0 0 0 0 0 0 0 0\n",
      "  0 0 0 0 0 0 0 0 0 0 0 0 0 0 0 0 0 0 0 0 0 0 0 0 0 0 0 0 0 0 0 0 0 0 0 0\n",
      "  0 0 0 0 0 0 0 0 0 0 0 0 0 0 0 0 0 0 0 0 0 0 0 0 0 0 0 0 0 0 0 0 0 0 0 0\n",
      "  0 0 0 0 0 0 0 0 0 0 0 0 0 0 0 0 0 0 0 0 0 0 0 0 0 0 0 0 0 0 0 0 0 0 0 0\n",
      "  0 0 0 0 0 0 0 0 0 0 0 0 0 0 0 0 0 0 0 0 0 0 0 0 0 0 0 0 0 0 0 0 0 0 0 0\n",
      "  0 0 0 0 0 0 0 0 0 0 0 0 0 0 0 0 0 0 0 0 0 0 0 0 0 0 0 0 0 0 0 0 0 0 0 0\n",
      "  0 0 0 0 0 0 0 0 0 0 0 0 0 0 0 0 0 0 0 0 0 0 0 0 0 0 0 0 0 0 0 0 0 0 0 0\n",
      "  0 0 0 0 0 0 0 0 0 0 0 0 0 0 0 0 0 0 0 0 0 0 0 0 0 0 0 0 0 0 0 0 0 0 0 0\n",
      "  0 0 0 0 0 0 0 0 0 0 0 0 0 0 0 0 0 0 0 0 0 1 0 0 0 0 0 0 0 0 0 0 0 0 0 0\n",
      "  0 2 0 0 3 0 0 0 0 0 0 0 0 2 0 0 0 2 0 0 0 0 0 0 0 0 0]]\n"
     ]
    }
   ],
   "source": [
    "print(cut_tree(hc_average, n_clusters=4).T)"
   ]
  },
  {
   "cell_type": "code",
   "execution_count": 29,
   "metadata": {},
   "outputs": [
    {
     "data": {
      "image/png": "[encoded data removed]",
      "text/plain": [
       "<Figure size 1800x720 with 1 Axes>"
      ]
     },
     "metadata": {
      "needs_background": "light"
     },
     "output_type": "display_data"
    }
   ],
   "source": [
    "# single linkage\n",
    "hc_single = linkage(dfHVC_scaled, method='single')\n",
    "plt.figure(figsize=(25, 10))\n",
    "dendrogram(hc_single)\n",
    "plt.show()\n"
   ]
  },
  {
   "cell_type": "code",
   "execution_count": 30,
   "metadata": {},
   "outputs": [
    {
     "name": "stdout",
     "output_type": "stream",
     "text": [
      "[[0 0 0 0 0 0 0 0 0 0 0 0 0 0 0 0 0 0 0 0 0 0 0 0 0 0 0 0 0 0 0 0 0 0 0 0\n",
      "  0 0 0 0 0 0 0 0 0 0 0 0 0 0 0 0 0 0 0 0 0 0 0 0 0 0 0 0 0 0 0 0 0 0 0 0\n",
      "  0 0 0 0 0 0 0 0 0 0 0 0 0 0 0 0 0 0 0 0 0 0 0 0 0 0 0 0 0 0 0 0 0 0 0 0\n",
      "  0 0 0 0 0 0 0 0 0 0 0 0 0 0 0 0 0 0 0 0 0 0 0 0 0 0 0 0 0 0 0 0 0 0 0 0\n",
      "  0 0 0 0 0 0 0 0 0 0 0 0 0 0 0 0 0 0 0 0 0 0 0 0 0 0 0 0 0 0 0 0 0 0 0 0\n",
      "  0 0 0 0 0 0 0 0 0 0 0 0 0 0 0 0 0 0 0 0 0 0 0 0 0 0 0 0 0 0 0 0 0 0 0 0\n",
      "  0 0 0 0 0 0 0 0 0 0 0 0 0 0 0 0 0 0 0 0 0 0 0 0 0 0 0 0 0 0 0 0 0 0 0 0\n",
      "  0 0 0 0 0 0 0 0 0 0 0 0 0 0 0 0 0 0 0 0 0 0 0 0 0 0 0 0 0 0 0 0 0 0 0 0\n",
      "  0 0 0 0 0 0 0 0 0 0 0 0 0 0 0 0 0 0 0 0 0 0 0 0 0 0 0 0 0 0 0 0 0 0 0 0\n",
      "  0 0 0 0 0 0 0 0 0 0 0 0 0 0 0 0 0 0 0 0 0 0 0 0 0 0 0 0 0 0 0 0 0 0 0 0\n",
      "  0 0 0 0 0 0 0 0 0 0 0 0 0 0 0 0 0 0 0 0 0 0 0 0 0 0 0 0 0 0 0 0 0 0 0 0\n",
      "  0 0 0 0 0 0 0 0 0 0 0 0 0 0 0 0 0 0 0 0 0 0 0 0 0 0 0 0 0 0 0 0 0 0 0 0\n",
      "  0 0 0 0 0 0 0 0 0 0 0 0 0 0 0 0 0 0 0 0 0 0 0 0 0 0 0 0 0 0 0 0 0 0 0 0\n",
      "  0 0 0 0 0 0 0 0 0 0 0 0 0 0 0 0 0 0 0 0 0 0 0 0 0 0 0 0 0 0 0 0 0 0 0 0\n",
      "  0 0 0 0 0 0 0 0 0 1 0 0 0 0 0 0 0 0 0 0 0 0 0 0 0 0 0 0 0 0 0 0 0 0 0 0\n",
      "  2 0 0 0 3 0 0 0 0 0 0 0 0 0 0 0 0 0 2 0 0 0 0 0 0 0 0]]\n"
     ]
    }
   ],
   "source": [
    "print(cut_tree(hc_single, n_clusters=4).T)"
   ]
  },
  {
   "cell_type": "markdown",
   "metadata": {},
   "source": [
    "The cut trees from average and single linkage are very similar. With these types of linkage, there are two clusters that have only one object. Complete linkage gave us slightly bigger clusters labeled as 1, 2, and 3. "
   ]
  },
  {
   "cell_type": "code",
   "execution_count": 31,
   "metadata": {},
   "outputs": [
    {
     "name": "stdout",
     "output_type": "stream",
     "text": [
      "[[ 1.57160815  2.89440091 -0.18218713  0.40912661 -0.85220521  0.49876425\n",
      "   2.2316289   1.41404343 -1.09690628 -1.00126166  0.59624133  1.71839366\n",
      "   0.04172635]\n",
      " [-0.15868665 -0.29225019  0.01839559 -0.04130987  0.0860479  -0.05036066\n",
      "  -0.22532952 -0.1427772   0.11075559  0.10109826 -0.06020301 -0.17350771\n",
      "  -0.00421315]]\n"
     ]
    },
    {
     "data": {
      "text/html": [
       "<div>\n",
       "<style scoped>\n",
       "    .dataframe tbody tr th:only-of-type {\n",
       "        vertical-align: middle;\n",
       "    }\n",
       "\n",
       "    .dataframe tbody tr th {\n",
       "        vertical-align: top;\n",
       "    }\n",
       "\n",
       "    .dataframe thead th {\n",
       "        text-align: right;\n",
       "    }\n",
       "</style>\n",
       "<table border=\"1\" class=\"dataframe\">\n",
       "  <thead>\n",
       "    <tr style=\"text-align: right;\">\n",
       "      <th>K-means clusters</th>\n",
       "      <th>0</th>\n",
       "      <th>1</th>\n",
       "    </tr>\n",
       "    <tr>\n",
       "      <th>Real gropus</th>\n",
       "      <th></th>\n",
       "      <th></th>\n",
       "    </tr>\n",
       "  </thead>\n",
       "  <tbody>\n",
       "    <tr>\n",
       "      <th>0</th>\n",
       "      <td>0</td>\n",
       "      <td>496</td>\n",
       "    </tr>\n",
       "    <tr>\n",
       "      <th>1</th>\n",
       "      <td>6</td>\n",
       "      <td>17</td>\n",
       "    </tr>\n",
       "    <tr>\n",
       "      <th>2</th>\n",
       "      <td>18</td>\n",
       "      <td>2</td>\n",
       "    </tr>\n",
       "    <tr>\n",
       "      <th>3</th>\n",
       "      <td>28</td>\n",
       "      <td>0</td>\n",
       "    </tr>\n",
       "  </tbody>\n",
       "</table>\n",
       "</div>"
      ],
      "text/plain": [
       "K-means clusters   0    1\n",
       "Real gropus              \n",
       "0                  0  496\n",
       "1                  6   17\n",
       "2                 18    2\n",
       "3                 28    0"
      ]
     },
     "execution_count": 31,
     "metadata": {},
     "output_type": "execute_result"
    }
   ],
   "source": [
    "# b) \n",
    "\n",
    "dfHVC_Kmeans2 = KMeans(n_clusters=2, n_init=50, random_state=1000).fit(dfHVC_scaled)\n",
    "print(dfHVC_Kmeans2.cluster_centers_)\n",
    "\n",
    "pandas.crosstab(\n",
    "    index = dfHVC.Category, \n",
    "    columns = dfHVC_Kmeans2.labels_, \n",
    "    rownames = ['Real gropus'], \n",
    "    colnames = ['K-means clusters']\n",
    ")"
   ]
  },
  {
   "cell_type": "markdown",
   "metadata": {},
   "source": [
    "We can cut the dendrogram in a different number from 4, but we can't obtain a perfect grouping in this case. But, if we want to get only two clusters, for example, we can do this and we will get two clusters each including the other smaller ones. After displaying the matching matrix with 2 clusters, we observe that more than one group was includded in the same cluster. For example, in cluster 0 were included 6 objects from group 1, 18 from group 2 and 28 from group 3. "
   ]
  }
 ],
 "metadata": {
  "interpreter": {
   "hash": "31f2aee4e71d21fbe5cf8b01ff0e069b9275f58929596ceb00d14d90e3e16cd6"
  },
  "kernelspec": {
   "display_name": "Python 2",
   "language": "python",
   "name": "python3"
  },
  "language_info": {
   "codemirror_mode": {
    "name": "ipython",
    "version": 3
   },
   "file_extension": ".py",
   "mimetype": "text/x-python",
   "name": "python",
   "nbconvert_exporter": "python",
   "pygments_lexer": "ipython3",
   "version": "3.9.7"
  }
 },
 "nbformat": 4,
 "nbformat_minor": 2
}
